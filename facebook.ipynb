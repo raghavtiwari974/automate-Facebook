{
 "cells": [
  {
   "cell_type": "code",
   "execution_count": null,
   "id": "4d28f4b0-3523-48ad-8a63-267cca5cd8a4",
   "metadata": {},
   "outputs": [],
   "source": [
    "import requests\n",
    "\n",
    "# Your Page Access Token (NOT App Token or User Token)\n",
    "ACCESS_TOKEN = 'YOUR_PAGE_ACCESS_TOKEN'\n",
    "# Your Facebook Page ID (not username)\n",
    "PAGE_ID = 'YOUR_PAGE_ID'\n",
    "\n",
    "# Message you want to post\n",
    "message = \"🚀 Hello, This is ME\"\n",
    "\n",
    "# Facebook Graph API URL to post to page feed\n",
    "url = f\"https://graph.facebook.com/{PAGE_ID}/feed\"\n",
    "\n",
    "# Make the POST request\n",
    "response = requests.post(\n",
    "    url,\n",
    "    data={\n",
    "        'message': message,\n",
    "        'access_token': ACCESS_TOKEN\n",
    "    }\n",
    ")\n",
    "\n",
    "# Show response\n",
    "if response.status_code == 200:\n",
    "    print(\"✅ Post published successfully!\")\n",
    "    print(\"Post ID:\", response.json().get(\"id\"))\n",
    "else:\n",
    "    print(\"❌ Failed to post\")\n",
    "    print(\"Response:\", response.text)\n"
   ]
  }
 ],
 "metadata": {
  "kernelspec": {
   "display_name": "Python 3 (ipykernel)",
   "language": "python",
   "name": "python3"
  },
  "language_info": {
   "codemirror_mode": {
    "name": "ipython",
    "version": 3
   },
   "file_extension": ".py",
   "mimetype": "text/x-python",
   "name": "python",
   "nbconvert_exporter": "python",
   "pygments_lexer": "ipython3",
   "version": "3.12.7"
  }
 },
 "nbformat": 4,
 "nbformat_minor": 5
}
